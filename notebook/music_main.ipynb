{
 "cells": [
  {
   "cell_type": "markdown",
   "metadata": {
    "collapsed": false
   },
   "source": [
    "# Importing Libraries\n",
    "\n"
   ]
  },
  {
   "cell_type": "code",
   "execution_count": 0,
   "metadata": {
    "collapsed": false
   },
   "outputs": [
   ],
   "source": [
    "# Importing Libraries\n",
    "import pandas as pd\n",
    "import plotly.express as px\n",
    "\n",
    "from sklearn.model_selection import train_test_split\n",
    "from sklearn.preprocessing import StandardScaler\n",
    "\n",
    "from sklearn.linear_model import SGDRegressor\n",
    "from sklearn.linear_model import Ridge\n",
    "from sklearn.ensemble import GradientBoostingRegressor\n",
    "from lightgbm import LGBMRegressor\n",
    "\n",
    "from tensorflow.keras import Sequential\n",
    "from tensorflow.keras.layers import Dense\n",
    "\n",
    "from sklearn.model_selection import GridSearchCV\n",
    "\n",
    "from sklearn.metrics import mean_absolute_error\n",
    "from sklearn.metrics import r2_score\n",
    "\n",
    "import time\n",
    "import pickle"
   ]
  },
  {
   "cell_type": "markdown",
   "metadata": {
    "collapsed": false
   },
   "source": [
    "# Loading Data\n",
    "\n"
   ]
  },
  {
   "cell_type": "code",
   "execution_count": 0,
   "metadata": {
    "collapsed": false
   },
   "outputs": [
   ],
   "source": [
    "data_path = 'data/music.csv'\n",
    "music_df = pd.read_csv(data_path) # Reads our dataset\n",
    "music_df.dropna(inplace=True) # Removes rows with null values\n",
    "music_df.columns"
   ]
  },
  {
   "cell_type": "markdown",
   "metadata": {
    "collapsed": false
   },
   "source": [
    "# Data Cleaning\n",
    "\n"
   ]
  },
  {
   "cell_type": "code",
   "execution_count": 0,
   "metadata": {
    "collapsed": false
   },
   "outputs": [
   ],
   "source": [
    "# DATA CLEANING\n",
    "# Impute tempo column\n",
    "tempo_data = []\n",
    "for tempo in music_df['tempo']:\n",
    "    if tempo == '?':\n",
    "        tempo_data.append(1)\n",
    "    else:\n",
    "        tempo_data.append(0)\n",
    "music_df['tempo_mod'] = tempo_data # Insert a column that checks if tempo value will be imputed or not\n",
    "music_df['tempo'] = music_df['tempo'].replace({'?':120}) # Imputes tempo column by replacing ? with 120\n",
    "music_df['tempo'] = music_df['tempo'].astype(float) # Changes data type to float\n",
    "\n",
    "# Creating new column 'has_feat' which looks for songs with an artist feature\n",
    "has_feat = []\n",
    "for name in music_df['track_name']:\n",
    "    if 'ft.' in name.lower():\n",
    "        has_feat.append(1)\n",
    "    elif '(with ' in name.lower():\n",
    "        has_feat.append(1)\n",
    "    elif 'feat.' in name.lower():\n",
    "        has_feat.append(1)\n",
    "    else:\n",
    "        has_feat.append(0)\n",
    "music_df['has_feat'] = has_feat\n",
    "\n",
    "# We attempted to impute this column but did not find improved results\n",
    "music_df = music_df[music_df['duration_ms'] != -1.] # dropped any duration value with a -1\n",
    "\n",
    "# We are not imputing popularity column because it is the target\n",
    "music_df = music_df[music_df['popularity'] != 0] # dropped any popularity with a 0\n",
    "\n",
    "# Dropped useless columns\n",
    "columns_to_drop = ['instance_id','track_name', 'obtained_date', 'artist_name']\n",
    "music_df.drop(columns_to_drop, axis=1, inplace=True)"
   ]
  },
  {
   "cell_type": "markdown",
   "metadata": {
    "collapsed": false
   },
   "source": [
    "# Exploratory Data Analysis\n",
    "\n"
   ]
  },
  {
   "cell_type": "code",
   "execution_count": 0,
   "metadata": {
    "collapsed": false
   },
   "outputs": [
   ],
   "source": [
    "# Search for outliers in numerical data\n",
    "#num_data = ['acousticness', 'danceability', 'duration_ms', 'instrumentalness', 'liveness', 'loudness', 'speechiness', 'tempo', 'valence']\n",
    "#for num_col in num_data:\n",
    "#    fig = px.histogram(music_df, x=num_col)\n",
    "#    fig.show()\n",
    "#    fig = px.box(music_df, x=num_col)\n",
    "#    fig.show()"
   ]
  },
  {
   "cell_type": "code",
   "execution_count": 0,
   "metadata": {
    "collapsed": false
   },
   "outputs": [
   ],
   "source": [
    "# There are no strong correlations between numerical variables and the popularity column\n",
    "fig = px.imshow(music_df.corr(), text_auto=False, height=700, width=888)\n",
    "fig.update_layout(title={\n",
    "    'text': \"Music Data Correlation Matrix\",\n",
    "    'font': {'size': 25},\n",
    "    'y': 0.97})\n",
    "fig.show()\n",
    "#fig.write_html(\"correlation_heatmap.html\")"
   ]
  },
  {
   "cell_type": "code",
   "execution_count": 0,
   "metadata": {
    "collapsed": false
   },
   "outputs": [
   ],
   "source": [
    "fig = px.histogram(music_df, x='popularity', title='Popularity Distribution', height=450, width=700)\n",
    "fig.update_layout(title={\n",
    "    'text': \"Popularity Distribution\",\n",
    "    'font': {'size': 25},\n",
    "    'y': 0.9})\n",
    "fig.show()\n",
    "#fig.write_html(\"html_files/popularity_uni.html\")"
   ]
  },
  {
   "cell_type": "code",
   "execution_count": 0,
   "metadata": {
    "collapsed": false
   },
   "outputs": [
   ],
   "source": [
    "fig = px.histogram(music_df, x='music_genre', title='Music Genres', color=\"music_genre\", height=450, width=700)\n",
    "fig.update_layout(showlegend = False,\n",
    "    title={\n",
    "    'text': \"Music Genres\",\n",
    "    'font': {'size': 25},\n",
    "    'y': 0.9}\n",
    ")\n",
    "fig.show()\n",
    "#fig.write_html(\"html_files/genres_uni.html\")"
   ]
  },
  {
   "cell_type": "code",
   "execution_count": 0,
   "metadata": {
    "collapsed": false
   },
   "outputs": [
   ],
   "source": [
    "fig = px.box(music_df, x='music_genre', color='music_genre', y='popularity', title='Popularity vs Music Genre', height=450, width=700)\n",
    "fig.update_layout(showlegend = False,\n",
    "    title={\n",
    "    'font': {'size': 25},\n",
    "    'y': 0.9}\n",
    ")\n",
    "fig.show()\n",
    "#fig.write_html(\"html_files/popularity_genre.html\")"
   ]
  },
  {
   "cell_type": "code",
   "execution_count": 0,
   "metadata": {
    "collapsed": false
   },
   "outputs": [
   ],
   "source": [
    "fig = px.box(music_df, x='mode', color='mode', y='popularity', title='Popularity vs Mode', height=450, width=700)\n",
    "fig.update_layout(showlegend = False,\n",
    "    title={\n",
    "    'font': {'size': 25},\n",
    "    'y': 0.9})\n",
    "fig.show()\n",
    "#fig.write_html(\"html_files/popularity_mode.html\")"
   ]
  },
  {
   "cell_type": "code",
   "execution_count": 0,
   "metadata": {
    "collapsed": false
   },
   "outputs": [
   ],
   "source": [
    "fig = px.box(music_df, x='key', y='popularity', title='Popularity vs Key', height=450, width=700, color='key', category_orders={\"key\": [\"A\", \"A#\", \"B\", \"C\", \"C#\", \"D\", \"D#\",\"E\", \"F\", \"F#\", \"G\", \"G#\"]})\n",
    "fig.update_layout(showlegend = False,\n",
    "    title={\n",
    "    'font': {'size': 25},\n",
    "    'y': 0.9}\n",
    ")\n",
    "fig.show()\n",
    "#fig.write_html(\"html_files/popularity_key.html\")"
   ]
  },
  {
   "cell_type": "markdown",
   "metadata": {
    "collapsed": false
   },
   "source": [
    "# Data Preprocessing\n",
    "\n"
   ]
  },
  {
   "cell_type": "code",
   "execution_count": 0,
   "metadata": {
    "collapsed": false
   },
   "outputs": [
   ],
   "source": [
    "# DATA PREPROCESSING\n",
    "\n",
    "# Categorical variable encoding\n",
    "music_df['mode'] = music_df['mode'].replace({'Major':1, 'Minor':0}) #label encoding\n",
    "music_df['key'] = music_df['key'].replace({'A':0,'A#':1,'B':2,'C':3,'C#':4,'D':5,'D#':6,'E':7,'F':8,'F#':9,'G':10, 'G#':11}) #label encoding\n",
    "music_df = pd.get_dummies(music_df) # one hot encoding\n",
    "\n",
    "# Divide data for supervised machine learning\n",
    "target = music_df['popularity']\n",
    "inputs = music_df.drop('popularity', axis=1)\n",
    "x_train, x_test, y_train, y_test = train_test_split(inputs, target, test_size=0.1, random_state=42)\n",
    "\n",
    "# Scale the data\n",
    "scaler = StandardScaler()\n",
    "x_train = pd.DataFrame(data=scaler.fit_transform(x_train), columns=x_train.columns)\n",
    "x_test = pd.DataFrame(data=scaler.transform(x_test), columns=x_test.columns)"
   ]
  },
  {
   "cell_type": "code",
   "execution_count": 0,
   "metadata": {
    "collapsed": false
   },
   "outputs": [
   ],
   "source": [
    "#filename = 'scaler.sav'\n",
    "#pickle.dump(scaler, open(filename, 'wb'))"
   ]
  },
  {
   "cell_type": "markdown",
   "metadata": {
    "collapsed": false
   },
   "source": [
    "# Machine Learning\n",
    "\n"
   ]
  },
  {
   "cell_type": "markdown",
   "metadata": {
    "collapsed": false
   },
   "source": [
    "## Ridge Regressor\n",
    "\n"
   ]
  },
  {
   "cell_type": "code",
   "execution_count": 0,
   "metadata": {
    "collapsed": false
   },
   "outputs": [
   ],
   "source": [
    "start_time = time.perf_counter()\n",
    "ridge_grid = {'alpha':[0.001, 0.01, 0.1, 1, 10]}\n",
    "ridge_model = Ridge()\n",
    "ridge_search = GridSearchCV(ridge_model, ridge_grid, verbose=1)\n",
    "ridge_search.fit(x_train, y_train)\n",
    "stop_time = time.perf_counter()\n",
    "print(stop_time - start_time)\n",
    "print(ridge_search.best_params_)"
   ]
  },
  {
   "cell_type": "code",
   "execution_count": 0,
   "metadata": {
    "collapsed": false
   },
   "outputs": [
   ],
   "source": [
    "y_pred_ridge = ridge_search.predict(x_test)\n",
    "print(r2_score(y_test, y_pred_ridge))\n",
    "print(mean_absolute_error(y_test, y_pred_ridge))"
   ]
  },
  {
   "cell_type": "code",
   "execution_count": 0,
   "metadata": {
    "collapsed": false
   },
   "outputs": [
   ],
   "source": [
    "fig = px.scatter(x=y_pred_ridge, y=y_test)\n",
    "fig.update_layout(\n",
    "    width=600,\n",
    "    height=400,\n",
    "    title={\n",
    "        'text': \"Ridge Regression Test Results\",\n",
    "        'font': {'size': 25},\n",
    "        'y': 0.93\n",
    "    },\n",
    "    xaxis_title=\"Predicted Values\",\n",
    "    yaxis_title=\"Actual Values\"\n",
    ")\n",
    "fig.show()\n",
    "fig.write_html(\"html_files/test_ridge.html\")"
   ]
  },
  {
   "cell_type": "markdown",
   "metadata": {
    "collapsed": false
   },
   "source": [
    "## LGBM Regressor\n",
    "\n"
   ]
  },
  {
   "cell_type": "code",
   "execution_count": 0,
   "metadata": {
    "collapsed": false
   },
   "outputs": [
   ],
   "source": [
    "start_time = time.perf_counter()\n",
    "lgbm_grid = {\n",
    "    'learning_rate':[0.001, 0.01, 0.1, 1.],\n",
    "    'max_depth': [-1, 3, 5, 7, 9, 11]\n",
    "}\n",
    "lgbm_model = LGBMRegressor()\n",
    "lgbm_search = GridSearchCV(lgbm_model, lgbm_grid, verbose=1)\n",
    "lgbm_search.fit(x_train, y_train)\n",
    "stop_time = time.perf_counter()\n",
    "print(stop_time - start_time)\n",
    "print(lgbm_search.best_params_)"
   ]
  },
  {
   "cell_type": "code",
   "execution_count": 0,
   "metadata": {
    "collapsed": false
   },
   "outputs": [
   ],
   "source": [
    "y_pred_lgbm = lgbm_search.predict(x_test)\n",
    "print(r2_score(y_test, y_pred_lgbm))\n",
    "print(mean_absolute_error(y_test, y_pred_lgbm))"
   ]
  },
  {
   "cell_type": "code",
   "execution_count": 0,
   "metadata": {
    "collapsed": false
   },
   "outputs": [
   ],
   "source": [
    "fig = px.scatter(x=y_pred_lgbm, y=y_test)\n",
    "fig.update_layout(\n",
    "    width=600,\n",
    "    height=400,\n",
    "    title={\n",
    "        'text': \"LGBM Regression Test Results\",\n",
    "        'font': {'size': 25},\n",
    "        'y': 0.93\n",
    "    },\n",
    "    xaxis_title=\"Predicted Values\",\n",
    "    yaxis_title=\"Actual Values\"\n",
    ")\n",
    "fig.show()\n",
    "fig.write_html(\"html_files/test_lgbm.html\")"
   ]
  },
  {
   "cell_type": "code",
   "execution_count": 0,
   "metadata": {
    "collapsed": false
   },
   "outputs": [
   ],
   "source": [
    "#filename = 'lgbm_model.sav'\n",
    "#pickle.dump(lgbm_search, open(filename, 'wb'))"
   ]
  },
  {
   "cell_type": "markdown",
   "metadata": {
    "collapsed": false
   },
   "source": [
    "## SGD Regressor\n",
    "\n"
   ]
  },
  {
   "cell_type": "code",
   "execution_count": 0,
   "metadata": {
    "collapsed": false
   },
   "outputs": [
   ],
   "source": [
    "start_time = time.perf_counter()\n",
    "sgd_grid = {\n",
    "    'loss': ['squared_error', 'huber', 'epsilon_insensitive', 'squared_epsilon_insensitive'],\n",
    "    'learning_rate': ['invscaling', 'constant', 'optimal', 'adaptive'],\n",
    "    'alpha': [0.0001, 0.001, 0.01, 0.1, 1]\n",
    "}\n",
    "sgd_model = SGDRegressor()\n",
    "sgd_search = GridSearchCV(sgd_model, sgd_grid, verbose = 1)\n",
    "sgd_search.fit(x_train, y_train)\n",
    "stop_time = time.perf_counter()\n",
    "print(stop_time - start_time)\n",
    "print(sgd_search.best_params_)"
   ]
  },
  {
   "cell_type": "code",
   "execution_count": 0,
   "metadata": {
    "collapsed": false
   },
   "outputs": [
   ],
   "source": [
    "y_pred_sgd = sgd_search.predict(x_test)\n",
    "print(r2_score(y_test, y_pred_sgd))\n",
    "print(mean_absolute_error(y_test, y_pred_sgd))"
   ]
  },
  {
   "cell_type": "code",
   "execution_count": 0,
   "metadata": {
    "collapsed": false
   },
   "outputs": [
   ],
   "source": [
    "fig = px.scatter(x=y_pred_sgd, y=y_test)\n",
    "fig.update_layout(\n",
    "    width=600,\n",
    "    height=400,\n",
    "    title={\n",
    "        'text': \"SGD Regression Test Results\",\n",
    "        'font': {'size': 25},\n",
    "        'y': 0.93\n",
    "    },\n",
    "    xaxis_title=\"Predicted Values\",\n",
    "    yaxis_title=\"Actual Values\"\n",
    ")\n",
    "fig.show()\n",
    "fig.write_html(\"html_files/test_sgd.html\")"
   ]
  },
  {
   "cell_type": "code",
   "execution_count": 0,
   "metadata": {
    "collapsed": false
   },
   "outputs": [
   ],
   "source": [
   ]
  },
  {
   "cell_type": "code",
   "execution_count": 0,
   "metadata": {
    "collapsed": false
   },
   "outputs": [
   ],
   "source": [
   ]
  },
  {
   "cell_type": "code",
   "execution_count": 0,
   "metadata": {
    "collapsed": false
   },
   "outputs": [
   ],
   "source": [
   ]
  }
 ],
 "metadata": {
  "kernelspec": {
   "display_name": "Python (ds_env)",
   "language": "python",
   "metadata": {
    "debugger": true
   },
   "name": "ds_env",
   "resource_dir": "/projects/66ddc8e4-4410-423b-929c-a2b80762c7ad/.local/share/jupyter/kernels/ds_env"
  },
  "language_info": {
   "codemirror_mode": {
    "name": "ipython",
    "version": 3
   },
   "file_extension": ".py",
   "mimetype": "text/x-python",
   "name": "python",
   "nbconvert_exporter": "python",
   "pygments_lexer": "ipython3",
   "version": "3.8.13"
  }
 },
 "nbformat": 4,
 "nbformat_minor": 4
}